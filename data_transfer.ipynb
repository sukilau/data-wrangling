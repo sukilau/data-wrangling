{
 "cells": [
  {
   "cell_type": "code",
   "execution_count": 3,
   "metadata": {
    "collapsed": false
   },
   "outputs": [],
   "source": [
    "# scripting language : Python 3.6\n",
    "# module : Pandas \n",
    "\n",
    "import pandas as pd"
   ]
  },
  {
   "cell_type": "code",
   "execution_count": 13,
   "metadata": {
    "collapsed": false
   },
   "outputs": [
    {
     "data": {
      "text/html": [
       "<div>\n",
       "<table border=\"1\" class=\"dataframe\">\n",
       "  <thead>\n",
       "    <tr style=\"text-align: right;\">\n",
       "      <th></th>\n",
       "      <th>date</th>\n",
       "      <th>time</th>\n",
       "      <th>size</th>\n",
       "      <th>url</th>\n",
       "    </tr>\n",
       "  </thead>\n",
       "  <tbody>\n",
       "    <tr>\n",
       "      <th>0</th>\n",
       "      <td>2017-08-23</td>\n",
       "      <td>10:28:13</td>\n",
       "      <td>13500</td>\n",
       "      <td>/media/thumbnail/fd1140af02.jpg</td>\n",
       "    </tr>\n",
       "    <tr>\n",
       "      <th>1</th>\n",
       "      <td>2017-08-24</td>\n",
       "      <td>00:00:00</td>\n",
       "      <td>10</td>\n",
       "      <td>/media/thumbnail/fd1140af03.jpg</td>\n",
       "    </tr>\n",
       "    <tr>\n",
       "      <th>2</th>\n",
       "      <td>2017-08-24</td>\n",
       "      <td>10:28:13</td>\n",
       "      <td>13500</td>\n",
       "      <td>/media/thumbnail/fd1140af04.js</td>\n",
       "    </tr>\n",
       "    <tr>\n",
       "      <th>3</th>\n",
       "      <td>2017-08-24</td>\n",
       "      <td>10:28:14</td>\n",
       "      <td>100</td>\n",
       "      <td>/media/thumbnail/fd1140af05.jpg</td>\n",
       "    </tr>\n",
       "    <tr>\n",
       "      <th>4</th>\n",
       "      <td>2017-08-24</td>\n",
       "      <td>10:28:15</td>\n",
       "      <td>1000</td>\n",
       "      <td>/media/thumbnail/fd1140af02.jpg</td>\n",
       "    </tr>\n",
       "  </tbody>\n",
       "</table>\n",
       "</div>"
      ],
      "text/plain": [
       "        date      time   size                              url\n",
       "0 2017-08-23  10:28:13  13500  /media/thumbnail/fd1140af02.jpg\n",
       "1 2017-08-24  00:00:00     10  /media/thumbnail/fd1140af03.jpg\n",
       "2 2017-08-24  10:28:13  13500   /media/thumbnail/fd1140af04.js\n",
       "3 2017-08-24  10:28:14    100  /media/thumbnail/fd1140af05.jpg\n",
       "4 2017-08-24  10:28:15   1000  /media/thumbnail/fd1140af02.jpg"
      ]
     },
     "execution_count": 13,
     "metadata": {},
     "output_type": "execute_result"
    }
   ],
   "source": [
    "# read logfile\n",
    "filename = \"logfile.tsv\"\n",
    "df = pd.read_csv(filename, sep='\\t', header=0)\n",
    "\n",
    "# rename column name\n",
    "df.rename(columns={'# date':'date'}, inplace=True)\n",
    "\n",
    "# convert 'date' to timestamp\n",
    "df['date'] = pd.to_datetime(df['date'])\n",
    "\n",
    "df.head()"
   ]
  },
  {
   "cell_type": "code",
   "execution_count": 16,
   "metadata": {
    "collapsed": true
   },
   "outputs": [],
   "source": [
    "def total_data_transfer(df, start_date, end_date, filetype, showlog=0):\n",
    "    \"\"\"\n",
    "    Compute total data transfer of filetype from start_date to end_date\n",
    "    \"\"\"\n",
    "    # add file_check column to store boolean value for filetype\n",
    "    suffix ='.'+filetype\n",
    "    df['file_check']  = list(map(lambda x: x.endswith(suffix), df['url']))\n",
    "   \n",
    "    # add date_check column to store boolean value for date range\n",
    "    start_date = pd.Timestamp(start_date) - pd.Timedelta('1D')\n",
    "    end_date = pd.Timestamp(end_date) + pd.Timedelta('1D')\n",
    "    df['date_check']  = list(map(lambda x: x>start_date and x<end_date , df['date']))\n",
    "    \n",
    "    short_df = df[df['file_check'] & df['date_check']]\n",
    "    \n",
    "    # print log file if showlog=1 \n",
    "    if showlog:\n",
    "        print(short_df)\n",
    "        \n",
    "    return sum(short_df['size'])"
   ]
  },
  {
   "cell_type": "code",
   "execution_count": 21,
   "metadata": {
    "collapsed": false
   },
   "outputs": [
    {
     "name": "stdout",
     "output_type": "stream",
     "text": [
      "        date      time    size                              url file_check  \\\n",
      "1 2017-08-24  00:00:00      10  /media/thumbnail/fd1140af03.jpg       True   \n",
      "3 2017-08-24  10:28:14     100  /media/thumbnail/fd1140af05.jpg       True   \n",
      "4 2017-08-24  10:28:15    1000  /media/thumbnail/fd1140af02.jpg       True   \n",
      "6 2017-08-24  23:59:59   10000  /media/thumbnail/fd1140af03.jpg       True   \n",
      "7 2017-08-25  01:00:00  100000  /media/thumbnail/fd1140af02.jpg       True   \n",
      "\n",
      "  date_check  \n",
      "1       True  \n",
      "3       True  \n",
      "4       True  \n",
      "6       True  \n",
      "7       True  \n",
      "Total data transfer: 111110 bytes (0.11111 MB)\n"
     ]
    }
   ],
   "source": [
    "total = total_data_transfer(df, start_date='2017-08-24', end_date='2017-08-25', filetype='jpg', showlog=1)\n",
    "\n",
    "print(\"Total data transfer: {} bytes ({} MB)\".format(total, total/1000000))"
   ]
  }
 ],
 "metadata": {
  "kernelspec": {
   "display_name": "Python 3",
   "language": "python",
   "name": "python3"
  },
  "language_info": {
   "codemirror_mode": {
    "name": "ipython",
    "version": 3
   },
   "file_extension": ".py",
   "mimetype": "text/x-python",
   "name": "python",
   "nbconvert_exporter": "python",
   "pygments_lexer": "ipython3",
   "version": "3.6.0"
  }
 },
 "nbformat": 4,
 "nbformat_minor": 2
}
